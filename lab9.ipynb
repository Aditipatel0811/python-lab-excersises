{
 "cells": [
  {
   "cell_type": "markdown",
   "metadata": {},
   "source": [
    "lab 9"
   ]
  },
  {
   "cell_type": "markdown",
   "metadata": {},
   "source": [
    "Q1. Write a program to distinguish between Array Indexing and Fancy Indexing."
   ]
  },
  {
   "cell_type": "code",
   "execution_count": 10,
   "metadata": {},
   "outputs": [
    {
     "name": "stdout",
     "output_type": "stream",
     "text": [
      "Array Indexing\n",
      "3\n",
      "Fancy Indexing\n",
      "[2 6]\n"
     ]
    }
   ],
   "source": [
    "import numpy as np\n",
    "arr = np.array([[1,2,3],[4,5,6]])\n",
    "print(\"Array Indexing\")\n",
    "print(arr[0][2])\n",
    "print(\"Fancy Indexing\")\n",
    "print(arr[[0,1],[1,2]])"
   ]
  },
  {
   "cell_type": "markdown",
   "metadata": {},
   "source": [
    "Q2. Execute the 2D array Slicing."
   ]
  },
  {
   "cell_type": "code",
   "execution_count": 20,
   "metadata": {},
   "outputs": [
    {
     "name": "stdout",
     "output_type": "stream",
     "text": [
      "[[2 3 5]\n",
      " [4 5 6]]\n",
      "\n",
      " [4 5]\n",
      "[[2 3]\n",
      " [4 5]]\n"
     ]
    }
   ],
   "source": [
    "import numpy as np\n",
    "arr = np.array([[2,3,5],[4,5,6]])\n",
    "print(arr)\n",
    "print(\"\\n\",arr[1, 0:2])\n",
    "print(arr[0:2,0:2])"
   ]
  },
  {
   "cell_type": "markdown",
   "metadata": {},
   "source": [
    "Q3. Create the 5-Dimensional arrays using ‘ndmin’."
   ]
  },
  {
   "cell_type": "code",
   "execution_count": 22,
   "metadata": {},
   "outputs": [
    {
     "name": "stdout",
     "output_type": "stream",
     "text": [
      "[[[[[1 2 3]]]]]\n"
     ]
    }
   ],
   "source": [
    "import numpy as np\n",
    "arr = np.array([1,2,3], ndmin=5)\n",
    "print(arr)"
   ]
  },
  {
   "cell_type": "markdown",
   "metadata": {},
   "source": [
    "Q4. Reshape the array from 1-D to 2-D array."
   ]
  },
  {
   "cell_type": "code",
   "execution_count": 24,
   "metadata": {},
   "outputs": [
    {
     "name": "stdout",
     "output_type": "stream",
     "text": [
      "[[1 2 3 4]\n",
      " [5 6 7 8]]\n"
     ]
    }
   ],
   "source": [
    "import numpy as np\n",
    "arr = np.array([1,2,3,4,5,6,7,8])\n",
    "arr = arr.reshape(2,4)\n",
    "print(arr)"
   ]
  },
  {
   "cell_type": "markdown",
   "metadata": {},
   "source": [
    "Q5. Perform the Stack functions in Numpy arrays – Stack(), hstack(), vstack(), and dstack()."
   ]
  },
  {
   "cell_type": "code",
   "execution_count": 27,
   "metadata": {},
   "outputs": [
    {
     "name": "stdout",
     "output_type": "stream",
     "text": [
      "\n",
      " [1 9 5 8]\n",
      "\n",
      " [3 6 7 2]\n",
      "\n",
      " [[1 9 5 8]\n",
      " [3 6 7 2]]\n",
      "\n",
      " [1 9 5 8 3 6 7 2]\n",
      "\n",
      " [[1 9 5 8]\n",
      " [3 6 7 2]]\n",
      "\n",
      " [[[1 3]\n",
      "  [9 6]\n",
      "  [5 7]\n",
      "  [8 2]]]\n"
     ]
    }
   ],
   "source": [
    "import numpy as np\n",
    "\n",
    "arr1=np.array([1,9,5,8])\n",
    "arr2=np.array([3,6,7,2])\n",
    "\n",
    "arr_stack= np.stack((arr1,arr2))\n",
    "arr_hstack= np.hstack((arr1,arr2))\n",
    "arr_vstack= np.vstack((arr1,arr2))\n",
    "arr_dstack= np.dstack((arr1,arr2))\n",
    "\n",
    "print(\"\\n\",arr1)\n",
    "print(\"\\n\",arr2)\n",
    "print(\"\\n\",arr_stack)\n",
    "print(\"\\n\",arr_hstack)\n",
    "print(\"\\n\",arr_vstack)\n",
    "print(\"\\n\",arr_dstack)"
   ]
  },
  {
   "cell_type": "markdown",
   "metadata": {},
   "source": [
    "Q6. Perform the searchsort method in Numpy array."
   ]
  },
  {
   "cell_type": "code",
   "execution_count": 1,
   "metadata": {},
   "outputs": [
    {
     "name": "stdout",
     "output_type": "stream",
     "text": [
      "The value 5 should be inserted at index 3 to maintain sorting.\n"
     ]
    }
   ],
   "source": [
    "import numpy as np\n",
    "\n",
    "sorted_array = np.array([1, 3, 4, 7, 9, 12])\n",
    "value = 5\n",
    "\n",
    "index_to_insert = np.searchsorted(sorted_array, value)\n",
    "print(f\"The value {value} should be inserted at index {index_to_insert} to maintain sorting.\")"
   ]
  },
  {
   "cell_type": "markdown",
   "metadata": {},
   "source": [
    "Q7. Create Numpy Structured array using your domain features."
   ]
  },
  {
   "cell_type": "code",
   "execution_count": 3,
   "metadata": {},
   "outputs": [
    {
     "name": "stdout",
     "output_type": "stream",
     "text": [
      "[('jagriti ja', 23, 55.) ('jj', 23, 59.)]\n"
     ]
    }
   ],
   "source": [
    "import numpy as np\n",
    "std_info = np.array([('jagriti jain', 23, 55.0), ('jj', 23, 59.0)],\n",
    "       dtype=[('std_name', (np.str_, 10)), ('std_age', np.int32), ('std_weight', np.float64)])\n",
    " \n",
    "print(std_info)"
   ]
  },
  {
   "cell_type": "markdown",
   "metadata": {},
   "source": [
    "Q8. Create Data frame using List and Dictionary."
   ]
  },
  {
   "cell_type": "code",
   "execution_count": 5,
   "metadata": {},
   "outputs": [
    {
     "name": "stdout",
     "output_type": "stream",
     "text": [
      "   0  1  2  3\n",
      "0  1  2  3  4\n",
      "1  5  6  7  8\n",
      "\n",
      "\n",
      "   0\n",
      "0  1\n",
      "1  2\n",
      "2  3\n",
      "3  4\n",
      "4  5\n",
      "          One     Two      Three\n",
      "One    tushar  shreya  Shivanshi\n",
      "Two    tushar  shreya  Shivanshi\n",
      "Three  tushar  shreya  Shivanshi\n"
     ]
    }
   ],
   "source": [
    "import pandas as pd\n",
    "arr1=np.array([[1,2,3,4],[5,6,7,8]])\n",
    "df1=pd.DataFrame(arr1)\n",
    "print(df1)\n",
    "\n",
    "print(\"\\n\")\n",
    "\n",
    "arr2=np.array([1,2,3,4,5])\n",
    "df2=pd.DataFrame(arr2)\n",
    "print(df2)\n",
    "\n",
    "arr3={\"One\":\"tushar\",\"Two\":\"shreya\",\"Three\":\"Shivanshi\"}\n",
    "df3=pd.DataFrame(arr3,index=[\"One\",\"Two\",\"Three\"])\n",
    "print(df3)"
   ]
  },
  {
   "cell_type": "markdown",
   "metadata": {},
   "source": [
    "Q9. Create Data frame on your Domain area and perform the following operations to find and eliminate the\n",
    "missing data from the dataset.\n",
    "• isnull()\n",
    "• notnull()\n",
    "• dropna()\n",
    "• fillna()\n",
    "• replace()\n",
    "• interpolate()"
   ]
  },
  {
   "cell_type": "code",
   "execution_count": 17,
   "metadata": {},
   "outputs": [
    {
     "name": "stdout",
     "output_type": "stream",
     "text": [
      "   Flight_Number  Destination    Departure_Time  Gate_Number  Passenger_Count\n",
      "0          101.0     New York  2023-09-16 08:00          5.0              150\n",
      "1          102.0  Los Angeles  2023-09-16 10:30          8.0              180\n",
      "2          103.0          NaN  2023-09-16 12:15          3.0                0\n",
      "3            NaN      Houston               NaN          4.0              160\n",
      "4          105.0        Miami  2023-09-16 14:45          NaN              200\n",
      "\n",
      "    Flight_Number  Destination  Departure_Time  Gate_Number  Passenger_Count\n",
      "0          False        False           False        False            False\n",
      "1          False        False           False        False            False\n",
      "2          False         True           False        False            False\n",
      "3           True        False            True        False            False\n",
      "4          False        False           False         True            False\n",
      "\n",
      "    Flight_Number  Destination  Departure_Time  Gate_Number  Passenger_Count\n",
      "0           True         True            True         True             True\n",
      "1           True         True            True         True             True\n",
      "2           True        False            True         True             True\n",
      "3          False         True           False         True             True\n",
      "4           True         True            True        False             True\n",
      "   Flight_Number  Destination    Departure_Time  Gate_Number  Passenger_Count\n",
      "0          101.0     New York  2023-09-16 08:00          5.0              150\n",
      "1          102.0  Los Angeles  2023-09-16 10:30          8.0              180\n",
      "   Flight_Number  Destination    Departure_Time  Gate_Number  Passenger_Count\n",
      "0          101.0     New York  2023-09-16 08:00          5.0              150\n",
      "1          102.0  Los Angeles  2023-09-16 10:30          8.0              180\n",
      "2          103.0            0  2023-09-16 12:15          3.0                0\n",
      "3            0.0      Houston                 0          4.0              160\n",
      "4          105.0        Miami  2023-09-16 14:45          0.0              200\n",
      "   Flight_Number  Destination    Departure_Time  Gate_Number  Passenger_Count\n",
      "0          101.0     New York  2023-09-16 08:00          5.0              150\n",
      "1          102.0  Los Angeles  2023-09-16 10:30          8.0              180\n",
      "2          103.0           -1  2023-09-16 12:15          3.0                0\n",
      "3           -1.0      Houston                -1          4.0              160\n",
      "4          105.0        Miami  2023-09-16 14:45         -1.0              200\n",
      "   Flight_Number  Destination    Departure_Time  Gate_Number  Passenger_Count\n",
      "0          101.0     New York  2023-09-16 08:00          5.0              150\n",
      "1          102.0  Los Angeles  2023-09-16 10:30          8.0              180\n",
      "2          103.0          NaN  2023-09-16 12:15          3.0                0\n",
      "3          104.0      Houston               NaN          4.0              160\n",
      "4          105.0        Miami  2023-09-16 14:45          4.0              200\n"
     ]
    },
    {
     "name": "stderr",
     "output_type": "stream",
     "text": [
      "C:\\Users\\aditi\\AppData\\Local\\Temp\\ipykernel_9812\\113071181.py:27: FutureWarning: DataFrame.interpolate with object dtype is deprecated and will raise in a future version. Call obj.infer_objects(copy=False) before interpolating instead.\n",
      "  df_interpolated = df.interpolate()\n"
     ]
    }
   ],
   "source": [
    "import pandas as pd\n",
    "\n",
    "data = {\n",
    "    'Flight_Number': [101, 102, 103, np.nan, 105],\n",
    "    'Destination': ['New York', 'Los Angeles', np.nan, 'Houston', 'Miami'],\n",
    "    'Departure_Time': ['2023-09-16 08:00', '2023-09-16 10:30', '2023-09-16 12:15', np.nan, '2023-09-16 14:45'],\n",
    "    'Gate_Number': [5, 8, 3, 4, np.nan],\n",
    "    'Passenger_Count': [150, 180, 0, 160, 200]\n",
    "}\n",
    "\n",
    "df = pd.DataFrame(data)\n",
    "print(df)\n",
    "\n",
    "print(\"\\n\", df.isnull())\n",
    "\n",
    "print(\"\\n\", df.notnull())\n",
    "\n",
    "df_dropped = df.dropna()  \n",
    "print(df_dropped)\n",
    "\n",
    "df_filled = df.fillna(0)  \n",
    "print(df_filled)\n",
    "\n",
    "df_replaced = df.replace(np.nan, -1)  \n",
    "print(df_replaced)\n",
    "\n",
    "df_interpolated = df.interpolate()  \n",
    "print(df_interpolated)"
   ]
  },
  {
   "cell_type": "markdown",
   "metadata": {},
   "source": [
    "Q10. Perform the Hierarchical Indexing in the above created dataset."
   ]
  },
  {
   "cell_type": "code",
   "execution_count": 19,
   "metadata": {},
   "outputs": [
    {
     "name": "stdout",
     "output_type": "stream",
     "text": [
      "   Flight_Number  Destination    Departure_Time  Gate_Number  Passenger_Count\n",
      "0          101.0     New York  2023-09-16 08:00          5.0              150\n",
      "1          102.0  Los Angeles  2023-09-16 10:30          8.0              180\n",
      "2          103.0          NaN  2023-09-16 12:15          3.0                0\n",
      "3            NaN      Houston               NaN          4.0              160\n",
      "4          105.0        Miami  2023-09-16 14:45          NaN              200\n",
      "                             Departure_Time  Gate_Number  Passenger_Count\n",
      "Flight_Number Destination                                                \n",
      "101.0         New York     2023-09-16 08:00          5.0              150\n",
      "102.0         Los Angeles  2023-09-16 10:30          8.0              180\n",
      "103.0         NaN          2023-09-16 12:15          3.0                0\n",
      "NaN           Houston                   NaN          4.0              160\n",
      "105.0         Miami        2023-09-16 14:45          NaN              200\n"
     ]
    }
   ],
   "source": [
    "import pandas as pd \n",
    "\n",
    "data = {\n",
    "    'Flight_Number': [101, 102, 103, np.nan, 105],\n",
    "    'Destination': ['New York', 'Los Angeles', np.nan, 'Houston', 'Miami'],\n",
    "    'Departure_Time': ['2023-09-16 08:00', '2023-09-16 10:30', '2023-09-16 12:15', np.nan, '2023-09-16 14:45'],\n",
    "    'Gate_Number': [5, 8, 3, 4, np.nan],\n",
    "    'Passenger_Count': [150, 180, 0, 160, 200]\n",
    "}\n",
    "\n",
    "df = pd.DataFrame(data)\n",
    "print(df)\n",
    "\n",
    "df.set_index(['Flight_Number', 'Destination'], inplace=True)\n",
    "print(df)"
   ]
  }
 ],
 "metadata": {
  "kernelspec": {
   "display_name": "Python 3",
   "language": "python",
   "name": "python3"
  },
  "language_info": {
   "codemirror_mode": {
    "name": "ipython",
    "version": 3
   },
   "file_extension": ".py",
   "mimetype": "text/x-python",
   "name": "python",
   "nbconvert_exporter": "python",
   "pygments_lexer": "ipython3",
   "version": "3.11.5"
  },
  "orig_nbformat": 4
 },
 "nbformat": 4,
 "nbformat_minor": 2
}
