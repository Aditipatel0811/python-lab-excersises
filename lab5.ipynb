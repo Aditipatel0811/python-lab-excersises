{
 "cells": [
  {
   "cell_type": "markdown",
   "metadata": {},
   "source": [
    "                                                                    Lab Exercise 5"
   ]
  },
  {
   "cell_type": "markdown",
   "metadata": {},
   "source": [
    "1> Write a program to handle the exception of ZeroDivisionError."
   ]
  },
  {
   "cell_type": "code",
   "execution_count": 1,
   "metadata": {},
   "outputs": [
    {
     "name": "stdout",
     "output_type": "stream",
     "text": [
      "Atepting to divide by zero\n",
      "This is code of finally clause\n"
     ]
    }
   ],
   "source": [
    "try:  \n",
    "    div = 4 // 0    \n",
    "    print( div )  \n",
    
    "except ZeroDivisionError:  \n",
    "    print( \"Atepting to divide by zero\" )  \n",
    
    "finally:  \n",
    "    print( 'This is code of finally clause' )  "
   ]
  },
  {
   "cell_type": "markdown",
   "metadata": {},
   "source": [
    " 2> Write a program to handle the exception of IndexError."
   ]
  },
  {
   "cell_type": "code",
   "execution_count": 4,
   "metadata": {},
   "outputs": [
    {
     "name": "stdout",
     "output_type": "stream",
     "text": [
      "index out of bound\n",
      "enter upto 4 indexing\n"
     ]
    }
   ],
   "source": [
    "try:\n",
    "    even_numbers= [2,4,6,8]\n",
    "    index=4\n",
    "    if 4<=index:\n",
    "        raise IndexError\n",
    "except IndexError:\n",
    "    print(\"index out of bound\")\n",
    "finally:\n",
    "    print(\"enter upto 4 indexing\")\n",
    "\n"
   ]
  },
  {
   "cell_type": "markdown",
   "metadata": {},
   "source": [
    "                                                                 Lab Exercise 6"
   ]
  },
  {
   "cell_type": "markdown",
   "metadata": {},
   "source": [
    "3> Write a program using the Regular Exception and create a function that accepts a string and searches it for a valid phone number.\n",
    "Return the phone number if found.\n",
    "A valid phone number may be one of the following:\n",
    "(xxx)-xxx-xxxx\n",
    "xxx-xxx-xxxx\n"
   ]
  },
  {
   "cell_type": "code",
   "execution_count": 6,
   "metadata": {},
   "outputs": [
    {
     "name": "stdout",
     "output_type": "stream",
     "text": [
      "+1 (555) 123-4567: True\n",
      "555-123-4567: True\n",
      "555 123 4567: True\n",
      "+44 (0) 20 1234 5678: True\n",
      "02012345678: True\n",
      "invalid phone number: False\n"
     ]
    }
   ],
   "source": [
    "import re\n",
    "\n",
    "def validate_phone_number(regex, phone_number):\n",
    "    match = re.search(regex, phone_number)\n",
    "    if match:\n",
    "        return True\n",
    "    return False\n",
    "\n",
    "pattern = re.compile(r\"(\\+\\d{1,3})?\\s?\\(?\\d{1,4}\\)?[\\s.-]?\\d{3}[\\s.-]?\\d{4}\")\n",
    "\n",
    "test_phone_numbers = [\n",
    "    \"+1 (555) 123-4567\",\n",
    "    \"555-123-4567\",\n",
    "    \"555 123 4567\",\n",
    "    \"+44 (0) 20 1234 5678\",\n",
    "    \"02012345678\",\n",
    "    \"invalid phone number\"\n",
    "]\n",
    "\n",
    "for number in test_phone_numbers:\n",
    "    print(f\"{number}: {validate_phone_number(pattern, number)}\")"
   ]
  },
  {
   "cell_type": "markdown",
   "metadata": {},
   "source": [
    "4> Write a function that employs regular expressions to ensure the password given to the function is strong.\n",
    "A strong password is defined as follows:\n",
    "·       at least eight characters long\n",
    "·       contains one uppercase character\n",
    "·       contains one lowercase character\n",
    "·       has at least one digit\n",
    "·       has at least one special character\n",
    "[For instance: Christ@123]\n"
   ]
  },
  {
   "cell_type": "code",
   "execution_count": 3,
   "metadata": {},
   "outputs": [
    {
     "name": "stdout",
     "output_type": "stream",
     "text": [
      "The password is strong.\n"
     ]
    }
   ],
   "source": [
    "import re\n",
    "\n",
    "def checkPassword(password):\n",
    "    pattern = r\"^(?=.*[A-Z])(?=.*[a-z])(?=.*\\d)(?=.*[@#$%^&+=!]).{8,}$\"\n",
    "    \n",
    "    if re.match(pattern, password):\n",
    "        return True\n",
    "    else:\n",
    "        return False\n",
    "\n",
    "password = input(\"Enter a password to check if it's strong: \")\n",
    "if checkPassword(password):\n",
    "    print(\"The password is strong.\")\n",
    "else:\n",
    "    print(\"The password is not strong. It should have at least 8 characters, one uppercase letter, one lowercase letter, one digit, and one special character.\")\n"
   ]
  }
 ],
 "metadata": {
  "kernelspec": {
   "display_name": "Python 3",
   "language": "python",
   "name": "python3"
  },
  "language_info": {
   "codemirror_mode": {
    "name": "ipython",
    "version": 3
   },
   "file_extension": ".py",
   "mimetype": "text/x-python",
   "name": "python",
   "nbconvert_exporter": "python",
   "pygments_lexer": "ipython3",
   "version": "3.11.4"
  },
  "orig_nbformat": 4
 },
 "nbformat": 4,
 "nbformat_minor": 2
}
