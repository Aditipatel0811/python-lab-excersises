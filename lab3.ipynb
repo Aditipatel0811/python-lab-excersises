{
 "cells": [
  {
   "cell_type": "code",
   "execution_count": 8,
   "metadata": {},
   "outputs": [
    {
     "name": "stdout",
     "output_type": "stream",
     "text": [
      "\n",
      "{'Name': 'Aditi', 'Domain': 'Airline management', 'Registration No.': '2347204'}\n"
     ]
    }
   ],
   "source": [
    "import re\n",
    "def splitAndDictionary(mainString):\n",
    "    tempList = re.split(\"_+\", mainString)\n",
    "\n",
    "    finalDict = {\"Name\": tempList[0], \"Domain\": tempList[1], \"Registration No.\": tempList[2]}\n",
    "    print(f\"\\n{finalDict}\")\n",
    "\n",
    "stringMain = \"Aditi___Airline management___2347204\"\n",
    "splitAndDictionary(stringMain)"
   ]
  },
  {
   "cell_type": "code",
   "execution_count": 9,
   "metadata": {},
   "outputs": [
    {
     "name": "stdout",
     "output_type": "stream",
     "text": [
      "we are happy to onboard our passengers\n",
      "This is the information for the passenger traviling from this airline.\n",
      "2 best pilots are assigned for the journey\n"
     ]
    }
   ],
   "source": [
    "class passenger:\n",
    "    def organiser_info(self):\n",
    "        print(\"This is the information for the passenger traviling from this airline.\")\n",
    "\n",
    "class pilot:\n",
    "    def display(self):\n",
    "        print(\"2 best pilots are assigned for the journey\")\n",
    "\n",
    "class Airline(passenger, pilot):\n",
    "        print(\"we are happy to onboard our passengers\")\n",
    "\n",
    "# create an object of Manager class\n",
    "object = Airline()\n",
    "object.organiser_info()\n",
    "object.display()"
   ]
  },
  {
   "cell_type": "code",
   "execution_count": 10,
   "metadata": {},
   "outputs": [
    {
     "name": "stdout",
     "output_type": "stream",
     "text": [
      "Online Airline booking Sysem\n",
      "passenger Name : Aditi\n",
      "attendie Name :  tushar\n"
     ]
    }
   ],
   "source": [
    "#multilevel inheritance \n",
    "class Airline:\n",
    "    def show(self):\n",
    "        print(\"Online Airline booking Sysem\") \n",
    " \n",
    "class passenger(Airline):\n",
    "    candidate_name = \"\"\n",
    "\n",
    "    def display(self):\n",
    "        print(self.candidate_name) \n",
    " \n",
    "class atttendie(passenger):\n",
    "    voter_name = \"\"\n",
    "\n",
    "    def display2(self):\n",
    "        print(\"passenger Name :\",self.candidate_name)\n",
    "        print(\"attendie Name : \",self.voter_name)\n",
    " \n",
    "obj = atttendie()\n",
    "obj.candidate_name = \"Aditi\"\n",
    "obj.voter_name = \"tushar\"\n",
    "obj.show()\n",
    "obj.display2()"
   ]
  },
  {
   "cell_type": "code",
   "execution_count": 11,
   "metadata": {},
   "outputs": [
    {
     "name": "stdout",
     "output_type": "stream",
     "text": [
      "This function is in parent class, named as airline.\n",
      "This function is in child class 1,which has the Passenger details.\n",
      "This function is in parent class, named as airline.\n",
      "This function is in child class 3,which has the Ground staff Details.\n"
     ]
    }
   ],
   "source": [
    "#Hierarchical Inheritance\n",
    "class Airline:\n",
    "    def func1(self):\n",
    "        print(\"This function is in parent class, named as airline.\")\n",
    "\n",
    "\n",
    "class passenger(Airline):\n",
    "    def func2(self):\n",
    "        print(\"This function is in child class 1,which has the Passenger details.\")\n",
    "\n",
    "\n",
    "class ground_staff(passenger):\n",
    "    def func3(self):\n",
    "        print(\"This function is in child class 3,which has the Ground staff Details.\")\n",
    "\n",
    "\n",
    "\n",
    "object1 = passenger()\n",
    "object2 = ground_staff()\n",
    "object1.func1()\n",
    "object1.func2()\n",
    "object2.func1()\n",
    "object2.func3()\n"
   ]
  }
 ],
 "metadata": {
  "kernelspec": {
   "display_name": "Python 3",
   "language": "python",
   "name": "python3"
  },
  "language_info": {
   "codemirror_mode": {
    "name": "ipython",
    "version": 3
   },
   "file_extension": ".py",
   "mimetype": "text/x-python",
   "name": "python",
   "nbconvert_exporter": "python",
   "pygments_lexer": "ipython3",
   "version": "3.11.4"
  },
  "orig_nbformat": 4
 },
 "nbformat": 4,
 "nbformat_minor": 2
}
